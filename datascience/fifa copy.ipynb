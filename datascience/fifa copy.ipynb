{
 "cells": [
  {
   "cell_type": "code",
   "execution_count": null,
   "id": "1da7b791",
   "metadata": {},
   "outputs": [],
   "source": [
    "import pandas as pd\n",
    "\n",
    "df = pd.read_csv(\"data.csv\")\n",
    "df.shape"
   ]
  },
  {
   "cell_type": "code",
   "execution_count": null,
   "id": "ad847e2c",
   "metadata": {},
   "outputs": [],
   "source": [
    "df.describe()\n",
    "\n"
   ]
  },
  {
   "cell_type": "code",
   "execution_count": null,
   "id": "4869af99",
   "metadata": {},
   "outputs": [],
   "source": [
    "df.values"
   ]
  },
  {
   "cell_type": "code",
   "execution_count": null,
   "id": "cac835e7",
   "metadata": {},
   "outputs": [],
   "source": [
    "df.columns"
   ]
  },
  {
   "cell_type": "code",
   "execution_count": null,
   "id": "04fe7c5e",
   "metadata": {},
   "outputs": [],
   "source": [
    "df[df[\"Age\"] >= 40].head()\n"
   ]
  },
  {
   "cell_type": "code",
   "execution_count": null,
   "id": "7a0f9cf0-021e-4cd8-a6ad-409b5471c15b",
   "metadata": {},
   "outputs": [],
   "source": [
    "df1 = pd.DataFrame(df, columns=['Name', 'Wage', 'Value', 'Age'])\n",
    "df1\n",
    "\n"
   ]
  },
  {
   "cell_type": "code",
   "execution_count": null,
   "id": "771a6bf9",
   "metadata": {},
   "outputs": [],
   "source": [
    "def value_to_float(x):\n",
    "    if type(x) == float or type(x) == int:\n",
    "        return x\n",
    "    if \"K\" in x:\n",
    "        if len(x) > 1:\n",
    "            return float(x.replace(\"K\", \"\")) * 1000\n",
    "        return 1000.0\n",
    "    if \"M\" in x:\n",
    "        if len(x) > 1:\n",
    "            return float(x.replace(\"M\", \"\")) * 1000000\n",
    "        return 1000000.0\n",
    "    if \"B\" in x:\n",
    "        return float(x.replace(\"B\", \"\")) * 1000000000\n",
    "    return 0.0 \n",
    "\n",
    "wave = df1[\"Wage\"].replace('[\\€,]', '', regex=True).apply(value_to_float)\n",
    "value = df1[\"Value\"].replace('[\\€,]', '', regex=True).apply(value_to_float)\n",
    "df1[\"Wage\"] = wave\n",
    "df1[\"Value\"] = value \n",
    "df1[\"difference\"] = df1['Value'] - df1[\"Wage\"]\n",
    "df1.sort_values(by=\"difference\", ascending=False)\n",
    " \n",
    "\n"
   ]
  },
  {
   "cell_type": "code",
   "execution_count": null,
   "id": "fcc312da",
   "metadata": {},
   "outputs": [],
   "source": [
    "import seaborn as sns\n",
    "\n",
    "sns.set()\n",
    "graph = sns.scatterplot(x=\"Wage\", y=\"Value\", data=df1)\n",
    "graph.set_xticklabels(df1[\"Name\"], rotation=90)\n",
    "graph\n",
    "\n"
   ]
  },
  {
   "cell_type": "code",
   "execution_count": null,
   "id": "d96ddf24",
   "metadata": {},
   "outputs": [],
   "source": [
    "from bokeh.plotting import figure, show\n",
    "from bokeh.models import HoverTool\n",
    "\n",
    "TOOLTIPS = HoverTool(tooltips=[\n",
    "  (\"index\", \"$index\"),\n",
    "  (\"Age\", \"@Age\"),\n",
    "  (\"(Wage,Value)\", \"(@Wage, @Value)\"),\n",
    "  (\"Name\", \"@Name\") ]\n",
    "  )\n",
    "p = figure(title=\"Soccer 2019\", \n",
    "           x_axis_label=\"Wage\", y_axis_label=\"Value\",\n",
    "           width=800, height=800,\n",
    "           tools=[TOOLTIPS]\n",
    "           )  \n",
    "p.scatter(\"Wage\", \"Value\", size=10, source=df1) \n",
    "show(p)\n",
    "\n",
    "\n",
    "\n"
   ]
  }
 ],
 "metadata": {
  "kernelspec": {
   "display_name": "Python 3 (ipykernel)",
   "language": "python",
   "name": "python3"
  },
  "language_info": {
   "codemirror_mode": {
    "name": "ipython",
    "version": 3
   },
   "file_extension": ".py",
   "mimetype": "text/x-python",
   "name": "python",
   "nbconvert_exporter": "python",
   "pygments_lexer": "ipython3",
   "version": "3.12.2"
  }
 },
 "nbformat": 4,
 "nbformat_minor": 5
}
